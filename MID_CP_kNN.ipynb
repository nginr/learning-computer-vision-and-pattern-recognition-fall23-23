{
  "nbformat": 4,
  "nbformat_minor": 0,
  "metadata": {
    "colab": {
      "provenance": []
    },
    "kernelspec": {
      "name": "python3",
      "display_name": "Python 3"
    },
    "language_info": {
      "name": "python"
    }
  },
  "cells": [
    {
      "cell_type": "markdown",
      "source": [
        "# Dataset and Preprocessing"
      ],
      "metadata": {
        "id": "K_68BdAADFx_"
      }
    },
    {
      "cell_type": "markdown",
      "source": [
        "## Imports"
      ],
      "metadata": {
        "id": "xnR4-C7dDXLY"
      }
    },
    {
      "cell_type": "code",
      "source": [
        "import numpy as np\n",
        "import cv2\n",
        "from matplotlib import pyplot as plt\n",
        "import os\n",
        "import math\n",
        "from tqdm import tqdm\n",
        "import random"
      ],
      "metadata": {
        "id": "oAG-vR1izi3i"
      },
      "execution_count": 15,
      "outputs": []
    },
    {
      "cell_type": "markdown",
      "source": [
        "## Declared global variables"
      ],
      "metadata": {
        "id": "maVBP60gDqmZ"
      }
    },
    {
      "cell_type": "code",
      "source": [
        "directory_name = \"CIFAR-10-images\"\n",
        "if not os.path.exists(directory_name):\n",
        "    !git clone https://github.com/YoongiKim/CIFAR-10-images.git\n",
        "\n",
        "DATASET_PATH = 'CIFAR-10-images'\n",
        "MODES = ['train', 'test']\n",
        "CATEGORIES = os.listdir(os.path.join(DATASET_PATH, MODES[0]))\n",
        "TRAIN_DATA_MODEL = []\n",
        "TEST_DATA_MODEL = []"
      ],
      "metadata": {
        "id": "5OBKOusMBsrq"
      },
      "execution_count": 14,
      "outputs": []
    },
    {
      "cell_type": "markdown",
      "source": [
        "## Data Processing"
      ],
      "metadata": {
        "id": "nwxFS6rYFKRo"
      }
    },
    {
      "cell_type": "code",
      "execution_count": 26,
      "metadata": {
        "colab": {
          "base_uri": "https://localhost:8080/"
        },
        "id": "7g9HXB4WmSyz",
        "outputId": "07f62feb-8450-476b-eb3c-3dbcda454857"
      },
      "outputs": [
        {
          "output_type": "stream",
          "name": "stdout",
          "text": [
            "train data preprocessing....\n"
          ]
        },
        {
          "output_type": "stream",
          "name": "stderr",
          "text": [
            "  0%|          | 0/10 [00:00<?, ?it/s]\n",
            "  0%|          | 0/5000 [00:00<?, ?it/s]\u001b[A\n",
            " 47%|████▋     | 2327/5000 [00:00<00:00, 23263.87it/s]\u001b[A\n",
            "100%|██████████| 5000/5000 [00:00<00:00, 21883.06it/s]\n",
            " 10%|█         | 1/10 [00:00<00:02,  4.13it/s]\n",
            "  0%|          | 0/5000 [00:00<?, ?it/s]\u001b[A\n",
            " 46%|████▌     | 2279/5000 [00:00<00:00, 22784.26it/s]\u001b[A\n",
            "100%|██████████| 5000/5000 [00:00<00:00, 21210.99it/s]\n",
            " 20%|██        | 2/10 [00:00<00:02,  3.99it/s]\n",
            "  0%|          | 0/5000 [00:00<?, ?it/s]\u001b[A\n",
            " 42%|████▏     | 2088/5000 [00:00<00:00, 20875.09it/s]\u001b[A\n",
            "100%|██████████| 5000/5000 [00:00<00:00, 21330.17it/s]\n",
            " 30%|███       | 3/10 [00:00<00:01,  3.96it/s]\n",
            "  0%|          | 0/5000 [00:00<?, ?it/s]\u001b[A\n",
            " 48%|████▊     | 2419/5000 [00:00<00:00, 24178.78it/s]\u001b[A\n",
            "100%|██████████| 5000/5000 [00:00<00:00, 21398.33it/s]\n",
            " 40%|████      | 4/10 [00:01<00:01,  3.98it/s]\n",
            "  0%|          | 0/5000 [00:00<?, ?it/s]\u001b[A\n",
            " 45%|████▍     | 2238/5000 [00:00<00:00, 22372.13it/s]\u001b[A\n",
            "100%|██████████| 5000/5000 [00:00<00:00, 20507.78it/s]\n",
            " 50%|█████     | 5/10 [00:01<00:01,  3.93it/s]\n",
            "  0%|          | 0/5000 [00:00<?, ?it/s]\u001b[A\n",
            " 48%|████▊     | 2418/5000 [00:00<00:00, 24174.03it/s]\u001b[A\n",
            "100%|██████████| 5000/5000 [00:00<00:00, 22048.83it/s]\n",
            " 60%|██████    | 6/10 [00:01<00:01,  4.00it/s]\n",
            "  0%|          | 0/5000 [00:00<?, ?it/s]\u001b[A\n",
            " 47%|████▋     | 2357/5000 [00:00<00:00, 23555.36it/s]\u001b[A\n",
            "100%|██████████| 5000/5000 [00:00<00:00, 22017.04it/s]\n",
            " 70%|███████   | 7/10 [00:01<00:00,  4.01it/s]\n",
            "  0%|          | 0/5000 [00:00<?, ?it/s]\u001b[A\n",
            " 46%|████▋     | 2314/5000 [00:00<00:00, 23134.40it/s]\u001b[A\n",
            "100%|██████████| 5000/5000 [00:00<00:00, 22468.99it/s]\n",
            " 80%|████████  | 8/10 [00:01<00:00,  4.07it/s]\n",
            "  0%|          | 0/5000 [00:00<?, ?it/s]\u001b[A\n",
            " 49%|████▉     | 2446/5000 [00:00<00:00, 24453.78it/s]\u001b[A\n",
            "100%|██████████| 5000/5000 [00:00<00:00, 22157.17it/s]\n",
            " 90%|█████████ | 9/10 [00:02<00:00,  4.07it/s]\n",
            "  0%|          | 0/5000 [00:00<?, ?it/s]\u001b[A\n",
            " 49%|████▉     | 2454/5000 [00:00<00:00, 24535.17it/s]\u001b[A\n",
            "100%|██████████| 5000/5000 [00:00<00:00, 22444.36it/s]\n",
            "100%|██████████| 10/10 [00:02<00:00,  4.03it/s]\n"
          ]
        },
        {
          "output_type": "stream",
          "name": "stdout",
          "text": [
            "test data preprocessing....\n"
          ]
        },
        {
          "output_type": "stream",
          "name": "stderr",
          "text": [
            "  0%|          | 0/10 [00:00<?, ?it/s]\n",
            "100%|██████████| 1000/1000 [00:00<00:00, 20521.28it/s]\n",
            "\n",
            "100%|██████████| 1000/1000 [00:00<00:00, 20523.99it/s]\n",
            " 20%|██        | 2/10 [00:00<00:00, 17.01it/s]\n",
            "100%|██████████| 1000/1000 [00:00<00:00, 17285.34it/s]\n",
            "\n",
            "100%|██████████| 1000/1000 [00:00<00:00, 22098.55it/s]\n",
            " 40%|████      | 4/10 [00:00<00:00, 16.42it/s]\n",
            "100%|██████████| 1000/1000 [00:00<00:00, 20722.85it/s]\n",
            "\n",
            "100%|██████████| 1000/1000 [00:00<00:00, 20200.18it/s]\n",
            " 60%|██████    | 6/10 [00:00<00:00, 16.46it/s]\n",
            "100%|██████████| 1000/1000 [00:00<00:00, 20456.23it/s]\n",
            "\n",
            "100%|██████████| 1000/1000 [00:00<00:00, 22101.81it/s]\n",
            " 80%|████████  | 8/10 [00:00<00:00, 16.67it/s]\n",
            "100%|██████████| 1000/1000 [00:00<00:00, 22409.66it/s]\n",
            "\n",
            "100%|██████████| 1000/1000 [00:00<00:00, 20268.21it/s]\n",
            "100%|██████████| 10/10 [00:00<00:00, 16.68it/s]\n"
          ]
        }
      ],
      "source": [
        "for mode in MODES:\n",
        "    print(f'{mode} data preprocessing....')\n",
        "    for cat in tqdm(CATEGORIES):\n",
        "        temp_path = os.path.join(DATASET_PATH, mode, cat)\n",
        "        IMAGES = os.listdir(temp_path)\n",
        "        for img in tqdm(IMAGES):\n",
        "            img_path = os.path.join(temp_path, img)\n",
        "            img_array = cv2.imread(img_path, cv2.IMREAD_GRAYSCALE)\n",
        "            data_block = [img_array, CATEGORIES.index(cat)]\n",
        "            if mode == 'test':\n",
        "              TEST_DATA_MODEL.append(data_block)\n",
        "            else:\n",
        "              TRAIN_DATA_MODEL.append(data_block)"
      ]
    },
    {
      "cell_type": "code",
      "source": [
        "print(TRAIN_DATA_MODEL[0][0].shape)\n",
        "print(len(TRAIN_DATA_MODEL))\n",
        "\n",
        "print(TEST_DATA_MODEL[0][0].shape)\n",
        "print(len(TEST_DATA_MODEL))"
      ],
      "metadata": {
        "colab": {
          "base_uri": "https://localhost:8080/"
        },
        "id": "BlYLwup9Eo8F",
        "outputId": "0b206b74-162d-4f51-ab40-c289c69f1901"
      },
      "execution_count": 12,
      "outputs": [
        {
          "output_type": "stream",
          "name": "stdout",
          "text": [
            "(32, 32)\n",
            "50000\n",
            "(32, 32)\n",
            "10000\n"
          ]
        }
      ]
    },
    {
      "cell_type": "markdown",
      "source": [
        "## Data Shuffle and Display First 5 Random Picks"
      ],
      "metadata": {
        "id": "GEyivfOkPXon"
      }
    },
    {
      "cell_type": "code",
      "source": [
        "random.shuffle(TRAIN_DATA_MODEL)\n",
        "\n",
        "fig, axes = plt.subplots(1, 5, figsize=(10, 5))\n",
        "for i in range(5):\n",
        "    axes[i].imshow(TRAIN_DATA_MODEL[i][0], cmap='gray')\n",
        "    axes[i].axis('off')\n",
        "    axes[i].text(0.5, -0.15, CATEGORIES[TRAIN_DATA_MODEL[i][1]], fontsize=10, ha='center', transform=axes[i].transAxes)\n",
        "plt.tight_layout()\n",
        "plt.show()"
      ],
      "metadata": {
        "colab": {
          "base_uri": "https://localhost:8080/",
          "height": 249
        },
        "id": "JEZwe-y5FeoO",
        "outputId": "9ca859c5-cda5-4c2e-a895-215895c56d08"
      },
      "execution_count": 44,
      "outputs": [
        {
          "output_type": "display_data",
          "data": {
            "text/plain": [
              "<Figure size 1000x500 with 5 Axes>"
            ],
            "image/png": "[encoded data removed]"
          },
          "metadata": {}
        }
      ]
    }
  ]
}